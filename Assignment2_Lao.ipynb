{
  "nbformat": 4,
  "nbformat_minor": 0,
  "metadata": {
    "colab": {
      "name": "Assignment2.ipynb",
      "provenance": [],
      "collapsed_sections": [],
      "toc_visible": true,
      "authorship_tag": "ABX9TyN/V8RkxKVlMuVLmQjMEkrd",
      "include_colab_link": true
    },
    "kernelspec": {
      "name": "python3",
      "display_name": "Python 3"
    },
    "language_info": {
      "name": "python"
    }
  },
  "cells": [
    {
      "cell_type": "markdown",
      "metadata": {
        "id": "view-in-github",
        "colab_type": "text"
      },
      "source": [
        "<a href=\"https://colab.research.google.com/github/HerschellLao/Linear-Algebra-Lab/blob/main/Assignment2_Lao.ipynb\" target=\"_parent\"><img src=\"https://colab.research.google.com/assets/colab-badge.svg\" alt=\"Open In Colab\"/></a>"
      ]
    },
    {
      "cell_type": "markdown",
      "metadata": {
        "id": "kkacO1tqP-FT"
      },
      "source": [
        "# Welcome to Phyton Fundamentals\n",
        "In this module, We are going to establish our skills in Phyton programming. In this notebook we are going to cover:\n",
        "\n",
        "*   Variables and Data Types\n",
        "*   Operations\n",
        "*   Input and Output Operations\n",
        "*   Logic Control\n",
        "*   Iterables\n",
        "*   Functions\n",
        "\n",
        "\n",
        "\n",
        "\n",
        "\n",
        "\n",
        "\n",
        "\n"
      ]
    },
    {
      "cell_type": "markdown",
      "metadata": {
        "id": "z2aNeX28Rgd3"
      },
      "source": [
        "## Variables and Data Types\n",
        "Variables are just reserved memory places where values can be stored. This means that when you make a variable, you set aside some memory for it. Every variable has a data type within. it only depends on what will the interpreter will put. you can store integers, decimals, characters in these variables."
      ]
    },
    {
      "cell_type": "code",
      "metadata": {
        "id": "BI386VOz18-S"
      },
      "source": [
        "x=1\n",
        "a, b = 3, -2"
      ],
      "execution_count": null,
      "outputs": []
    },
    {
      "cell_type": "code",
      "metadata": {
        "id": "ZaNeo__kSfHl"
      },
      "source": [
        "type(x)"
      ],
      "execution_count": null,
      "outputs": []
    },
    {
      "cell_type": "code",
      "metadata": {
        "id": "Aaes8sKCSxiS"
      },
      "source": [
        "y= 3.0\n",
        "type(y)"
      ],
      "execution_count": null,
      "outputs": []
    },
    {
      "cell_type": "code",
      "metadata": {
        "id": "aEEpmKIZS-rG"
      },
      "source": [
        "x = float(x)\n",
        "type(x)"
      ],
      "execution_count": null,
      "outputs": []
    },
    {
      "cell_type": "code",
      "metadata": {
        "id": "mlw4ak1_T7s5"
      },
      "source": [
        "s, t, u = \"1\", '3', 'three'\n",
        "type(s)"
      ],
      "execution_count": null,
      "outputs": []
    },
    {
      "cell_type": "markdown",
      "metadata": {
        "id": "62ld5j09XlCd"
      },
      "source": [
        "## Operations\n",
        "Operators are used to execute operations on values and variables in general. Standard symbols for logical and mathematical operations are represented by these symbols."
      ]
    },
    {
      "cell_type": "markdown",
      "metadata": {
        "id": "eCKwY8LRX_QK"
      },
      "source": [
        "### Arithmetic\n",
        "Arithmetic operators are used to perform mathematical operations like addition, subtraction, multiplication and division"
      ]
    },
    {
      "cell_type": "code",
      "metadata": {
        "id": "VpENaXmbYCLT"
      },
      "source": [
        "w, x, y, z = 4.0, -3.0, 1, -32"
      ],
      "execution_count": null,
      "outputs": []
    },
    {
      "cell_type": "code",
      "metadata": {
        "id": "0-94eW6mYVg4"
      },
      "source": [
        "### Addition\n",
        "S = w + x\n",
        "S"
      ],
      "execution_count": null,
      "outputs": []
    },
    {
      "cell_type": "code",
      "metadata": {
        "id": "aH5st2sxZEQ4"
      },
      "source": [
        "### Subtraction\n",
        "D = y - z\n",
        "D"
      ],
      "execution_count": null,
      "outputs": []
    },
    {
      "cell_type": "code",
      "metadata": {
        "id": "Er_Dz26FZMC3"
      },
      "source": [
        "### Multiplication\n",
        "P = w*z\n",
        "P"
      ],
      "execution_count": null,
      "outputs": []
    },
    {
      "cell_type": "code",
      "metadata": {
        "colab": {
          "base_uri": "https://localhost:8080/"
        },
        "id": "H8DGaqYCZb4m",
        "outputId": "1e36133c-e6c1-4e0b-ab6c-f4f947b13b3a"
      },
      "source": [
        "### Division\n",
        "Q = y/x\n",
        "Q"
      ],
      "execution_count": null,
      "outputs": [
        {
          "output_type": "execute_result",
          "data": {
            "text/plain": [
              "-0.3333333333333333"
            ]
          },
          "metadata": {},
          "execution_count": 19
        }
      ]
    },
    {
      "cell_type": "code",
      "metadata": {
        "colab": {
          "base_uri": "https://localhost:8080/"
        },
        "id": "O-qaN9t0ZlZp",
        "outputId": "0646e998-28c6-422e-a745-94e7675109f9"
      },
      "source": [
        "### Floor Division\n",
        "Qf = w//z\n",
        "Qf"
      ],
      "execution_count": null,
      "outputs": [
        {
          "output_type": "execute_result",
          "data": {
            "text/plain": [
              "-1.0"
            ]
          },
          "metadata": {},
          "execution_count": 20
        }
      ]
    },
    {
      "cell_type": "code",
      "metadata": {
        "colab": {
          "base_uri": "https://localhost:8080/"
        },
        "id": "kFspbGXgZywZ",
        "outputId": "dc892f67-8fb7-45a7-fe8e-1919fff9d557"
      },
      "source": [
        "### Exponentiation\n",
        "E = w**w\n",
        "E"
      ],
      "execution_count": null,
      "outputs": [
        {
          "output_type": "execute_result",
          "data": {
            "text/plain": [
              "256.0"
            ]
          },
          "metadata": {},
          "execution_count": 21
        }
      ]
    },
    {
      "cell_type": "code",
      "metadata": {
        "colab": {
          "base_uri": "https://localhost:8080/"
        },
        "id": "CMDWehJ4Z7QN",
        "outputId": "032b9606-3acc-42c6-fdd6-8be481bf6e0c"
      },
      "source": [
        "### Modulo\n",
        "mod = z%x\n",
        "mod"
      ],
      "execution_count": null,
      "outputs": [
        {
          "output_type": "execute_result",
          "data": {
            "text/plain": [
              "-2.0"
            ]
          },
          "metadata": {},
          "execution_count": 22
        }
      ]
    },
    {
      "cell_type": "markdown",
      "metadata": {
        "id": "4JwfSfXmaLWT"
      },
      "source": [
        "### Assignment\n",
        "The variables on the left side, will refer to the value given to the right side."
      ]
    },
    {
      "cell_type": "code",
      "metadata": {
        "id": "BGP4pZSFaQNG"
      },
      "source": [
        "A, B, C, D = 0, 100, 2, 1"
      ],
      "execution_count": null,
      "outputs": []
    },
    {
      "cell_type": "code",
      "metadata": {
        "id": "fq59-lebaavk"
      },
      "source": [
        "A += w\n",
        "A"
      ],
      "execution_count": null,
      "outputs": []
    },
    {
      "cell_type": "code",
      "metadata": {
        "id": "jJZgE1MocZ1q"
      },
      "source": [
        "B -= x\n",
        "B"
      ],
      "execution_count": null,
      "outputs": []
    },
    {
      "cell_type": "code",
      "metadata": {
        "id": "BOAO7ktycoaU"
      },
      "source": [
        "C *= w\n",
        "C"
      ],
      "execution_count": null,
      "outputs": []
    },
    {
      "cell_type": "code",
      "metadata": {
        "id": "B8FXE20TczfY"
      },
      "source": [
        "D /= x\n",
        "D"
      ],
      "execution_count": null,
      "outputs": []
    },
    {
      "cell_type": "code",
      "metadata": {
        "id": "TlgJdk1Lc7T3"
      },
      "source": [
        "E **= y\n",
        "E"
      ],
      "execution_count": null,
      "outputs": []
    },
    {
      "cell_type": "markdown",
      "metadata": {
        "id": "D4gcjntddOJ6"
      },
      "source": [
        "### Comparators\n",
        "These operations compare the values on both sides and determine their relationship. Relational operators are another term for them"
      ]
    },
    {
      "cell_type": "code",
      "metadata": {
        "id": "GbFTJaYfqxts"
      },
      "source": [
        "size_1, size_2, size_3 = 1, 2.0, \"1\"\n",
        "true_size = 1.0"
      ],
      "execution_count": null,
      "outputs": []
    },
    {
      "cell_type": "code",
      "metadata": {
        "colab": {
          "base_uri": "https://localhost:8080/"
        },
        "id": "5pgIDCPR6lEr",
        "outputId": "a4a09a5b-879b-48c8-b184-993cef68f8d6"
      },
      "source": [
        "## Equality\n",
        "size_1 == true_size"
      ],
      "execution_count": null,
      "outputs": [
        {
          "output_type": "execute_result",
          "data": {
            "text/plain": [
              "True"
            ]
          },
          "metadata": {},
          "execution_count": 38
        }
      ]
    },
    {
      "cell_type": "code",
      "metadata": {
        "colab": {
          "base_uri": "https://localhost:8080/"
        },
        "id": "IoL8Gy9p65pT",
        "outputId": "0cf8e368-2187-49ac-c046-491b0baae274"
      },
      "source": [
        "## Non-Equality\n",
        "size_2 != true_size"
      ],
      "execution_count": null,
      "outputs": [
        {
          "output_type": "execute_result",
          "data": {
            "text/plain": [
              "True"
            ]
          },
          "metadata": {},
          "execution_count": 39
        }
      ]
    },
    {
      "cell_type": "code",
      "metadata": {
        "id": "nB_9v1Yg7Jwa"
      },
      "source": [
        "## Inequality\n",
        "s1 = size_1 > size_2\n",
        "s2 = size_1 < size_2/2\n",
        "s3 = true_size >= size_1\n",
        "s4 = size_2 <= true_size"
      ],
      "execution_count": null,
      "outputs": []
    },
    {
      "cell_type": "markdown",
      "metadata": {
        "id": "kPoXV9n970qs"
      },
      "source": [
        "### Logical\n",
        "are used to carry out logical operations on variable values. Either true or false is the value. The truth values can be used to determine the conditions."
      ]
    },
    {
      "cell_type": "code",
      "metadata": {
        "id": "AUOldzfS76EO"
      },
      "source": [
        "size_1 == true_size\n",
        "size_1"
      ],
      "execution_count": null,
      "outputs": []
    },
    {
      "cell_type": "code",
      "metadata": {
        "id": "6v-_cV4e8HS7"
      },
      "source": [
        "size_1 is true_size"
      ],
      "execution_count": null,
      "outputs": []
    },
    {
      "cell_type": "code",
      "metadata": {
        "id": "HQr8Gmvr8PXh"
      },
      "source": [
        "size_1 is not true_size"
      ],
      "execution_count": null,
      "outputs": []
    },
    {
      "cell_type": "code",
      "metadata": {
        "id": "mzbeQWhr8Yz3"
      },
      "source": [
        "P, Q = True, False\n",
        "conj = P and Q"
      ],
      "execution_count": null,
      "outputs": []
    },
    {
      "cell_type": "code",
      "metadata": {
        "id": "YdtjVo4C9bs1"
      },
      "source": [
        "disj = P or Q\n",
        "disj"
      ],
      "execution_count": null,
      "outputs": []
    },
    {
      "cell_type": "code",
      "metadata": {
        "id": "gv4mRVPj9jHa"
      },
      "source": [
        "nand = P or Q\n",
        "nand"
      ],
      "execution_count": null,
      "outputs": []
    },
    {
      "cell_type": "code",
      "metadata": {
        "id": "wbTVKsIe9tCJ"
      },
      "source": [
        "xor = (not P and Q) or (P and not Q)\n",
        "xor"
      ],
      "execution_count": null,
      "outputs": []
    },
    {
      "cell_type": "markdown",
      "metadata": {
        "id": "Pk1LMtoz-n4Q"
      },
      "source": [
        "### Input and Output\n",
        "The input function allows a user to insert a value into a program. input returns a string value. You can convert the contents of an input using any data type. while the output displays by printing the word or any data type that you inserted."
      ]
    },
    {
      "cell_type": "code",
      "metadata": {
        "colab": {
          "base_uri": "https://localhost:8080/"
        },
        "id": "PQPCwXdW-ws5",
        "outputId": "1c276a46-8462-4b55-c52e-12c5c321d635"
      },
      "source": [
        "print(\"Hello World!\")"
      ],
      "execution_count": null,
      "outputs": [
        {
          "output_type": "stream",
          "name": "stdout",
          "text": [
            "Hello World!\n"
          ]
        }
      ]
    },
    {
      "cell_type": "code",
      "metadata": {
        "id": "cksPa7qi-6U7"
      },
      "source": [
        "cnt = 14000"
      ],
      "execution_count": null,
      "outputs": []
    },
    {
      "cell_type": "code",
      "metadata": {
        "colab": {
          "base_uri": "https://localhost:8080/"
        },
        "id": "ODBk-w04-8jh",
        "outputId": "1f0827f2-7e70-465a-ae01-9dff3c6dc8b5"
      },
      "source": [
        "string = \"Hello World!\"\n",
        "print(string,\", Current COVID count is:\",cnt)\n",
        "cnt += 10000"
      ],
      "execution_count": null,
      "outputs": [
        {
          "output_type": "stream",
          "name": "stdout",
          "text": [
            "Hello World! , Current COVID count is: 14000\n"
          ]
        }
      ]
    },
    {
      "cell_type": "code",
      "metadata": {
        "id": "Si-gx4XfEGNE"
      },
      "source": [
        "print(f\"{string},current count is: {cnt}\")"
      ],
      "execution_count": null,
      "outputs": []
    },
    {
      "cell_type": "code",
      "metadata": {
        "colab": {
          "base_uri": "https://localhost:8080/"
        },
        "id": "MTcVIHDmP273",
        "outputId": "247e0571-ce18-4fdf-c5ab-90495343ea8e"
      },
      "source": [
        "sem_grade = 86.25\n",
        "name = \"Harbin Lao\"\n",
        "print(\"Hello {}, your semestral grade is: {}\".format(name, sem_grade))"
      ],
      "execution_count": null,
      "outputs": [
        {
          "output_type": "stream",
          "name": "stdout",
          "text": [
            "Hello Harbin Lao, your semestral grade is: 86.25\n"
          ]
        }
      ]
    },
    {
      "cell_type": "code",
      "metadata": {
        "id": "RPEbTvV6FQBt"
      },
      "source": [
        "pg, mg, fg = 0.3, 0.3, 0.4\n",
        "print(\"the weights of your semestral grade are:\\\n",
        "\\n\\t {:.2%} for prelims\\\n",
        "\\n\\t {:.2%} for midterms, and\\\n",
        "\\n\\t {:.2%} for finals.\".format(pg,mg,fg))"
      ],
      "execution_count": null,
      "outputs": []
    },
    {
      "cell_type": "code",
      "metadata": {
        "id": "CyRO0U6zTabF"
      },
      "source": [
        "e = input(\"Enter a number: \")"
      ],
      "execution_count": null,
      "outputs": []
    },
    {
      "cell_type": "code",
      "metadata": {
        "id": "QL8N7h9PTmnr"
      },
      "source": [
        "name = input(\"Enter your name: \")\n",
        "pg = input(\"Enter prelim grade: \")\n",
        "mg = input(\"Enter midterm grade: \")\n",
        "fg = input(\"Enter Final grade: \")\n",
        "semgrade = None\n",
        "print(\"Hello {}, your semestral grade is: {}\". format(name,sem_grade))"
      ],
      "execution_count": null,
      "outputs": []
    },
    {
      "cell_type": "markdown",
      "metadata": {
        "id": "jx_UDXiaUstz"
      },
      "source": [
        "## Looping Statements\n",
        "are used to execute a block of statements or code repeatedly for several times as specified by the user.\n"
      ]
    },
    {
      "cell_type": "markdown",
      "metadata": {
        "id": "uFepKJulU1-H"
      },
      "source": [
        "### While\n",
        "while loop is used to execute a block of statements repeatedly until a given a condition is satisfied. And when the condition becomes false, the line immediately after the loop in program is executed. "
      ]
    },
    {
      "cell_type": "code",
      "metadata": {
        "id": "eqrwX9TZU8q_"
      },
      "source": [
        "## While loops\n",
        "i, j = 0, 10\n",
        "while(i<=j):\n",
        "  print(f\"{i}\\t|\\t{j}\")\n",
        "  i += 1"
      ],
      "execution_count": null,
      "outputs": []
    },
    {
      "cell_type": "markdown",
      "metadata": {
        "id": "pg3Ts9I9FTGX"
      },
      "source": [
        "## For\n",
        "A for loop is used to execute a set of statements repeatedly as long as the condition is met. It's also known as an iterative statement, and it's used to regulate how a program executes."
      ]
    },
    {
      "cell_type": "code",
      "metadata": {
        "id": "b4pKSakqFeMF"
      },
      "source": [
        "# for(int=0; i<=10; i++){\n",
        "#printf(i)\n",
        "# }\n",
        "i = 0\n",
        "for i in range(11):\n",
        "  print(i)"
      ],
      "execution_count": null,
      "outputs": []
    },
    {
      "cell_type": "code",
      "metadata": {
        "colab": {
          "base_uri": "https://localhost:8080/"
        },
        "id": "mn3eGvNjGvsG",
        "outputId": "36cb24b2-28d0-4401-8690-b0107be99d80"
      },
      "source": [
        "playlist = [\"Bahay Kubo\", \"Magandang kanta\", \"Buko\"]\n",
        "print('Now Playing:\\n')\n",
        "for song in playlist:\n",
        "  print(song)"
      ],
      "execution_count": null,
      "outputs": [
        {
          "output_type": "stream",
          "name": "stdout",
          "text": [
            "Now Playing:\n",
            "\n",
            "Bahay Kubo\n",
            "Magandang kanta\n",
            "Buko\n"
          ]
        }
      ]
    },
    {
      "cell_type": "markdown",
      "metadata": {
        "id": "jCbT2fjsJ8Fe"
      },
      "source": [
        "## Flow Control\n",
        "Flow Control is the execution order of the program's code. Conditional statements, loops, and function calls control the control flow of a Python program."
      ]
    },
    {
      "cell_type": "markdown",
      "metadata": {
        "id": "aOMoIAu4KDCW"
      },
      "source": [
        "### Condition Statements\n",
        "conditional statements perform different computations or actions.depending on whether a given Boolean constraint evaluates to true or false"
      ]
    },
    {
      "cell_type": "code",
      "metadata": {
        "id": "AToK5yj0LLZO"
      },
      "source": [
        "num_1, num_2 = 12, 12\n",
        "if(num_1 == num_2):\n",
        "  print(\"HAHA\")\n",
        "elif(num_1>num_2):\n",
        "    print(\"HIHI\")\n",
        "else:\n",
        "    print(\"HUHU\")"
      ],
      "execution_count": null,
      "outputs": []
    },
    {
      "cell_type": "markdown",
      "metadata": {
        "id": "Prei7ygkMdMX"
      },
      "source": [
        "## Functions\n",
        "A function is a reusable, organized block of code that performs a single, connected activity. Functions provide your program more modularity and allow you to reuse a lot of code."
      ]
    },
    {
      "cell_type": "code",
      "metadata": {
        "id": "wi9UWEwDM2AR"
      },
      "source": [
        "# void Deleteuser (int userid){\n",
        "# delete(userid):\n",
        "#}\n",
        "def delete_user (userid):\n",
        "  print(\"successfully deleted user: {}\".format(userid))"
      ],
      "execution_count": null,
      "outputs": []
    },
    {
      "cell_type": "code",
      "metadata": {
        "colab": {
          "base_uri": "https://localhost:8080/"
        },
        "id": "RPMKrlbNN7E7",
        "outputId": "6f81f80e-297f-40c7-eec6-25696e3247bf"
      },
      "source": [
        "userid = 2020-100100\n",
        "delete_user(2020-100100)"
      ],
      "execution_count": null,
      "outputs": [
        {
          "output_type": "stream",
          "name": "stdout",
          "text": [
            "successfully deleted user: -98080\n"
          ]
        }
      ]
    },
    {
      "cell_type": "code",
      "metadata": {
        "id": "A79jC84iPVFp"
      },
      "source": [
        "addend1, addend2 = 5, 6"
      ],
      "execution_count": null,
      "outputs": []
    },
    {
      "cell_type": "code",
      "metadata": {
        "id": "N3Ywe3oDOur2"
      },
      "source": [
        "def add(addend1, addend2):\n",
        "  sum = addend1 + addend2\n",
        "  return sum"
      ],
      "execution_count": null,
      "outputs": []
    },
    {
      "cell_type": "code",
      "metadata": {
        "colab": {
          "base_uri": "https://localhost:8080/"
        },
        "id": "eJbEJbthPjoa",
        "outputId": "88efe6a3-1515-4824-ddc0-382741445d67"
      },
      "source": [
        "add(5,4)"
      ],
      "execution_count": null,
      "outputs": [
        {
          "output_type": "execute_result",
          "data": {
            "text/plain": [
              "9"
            ]
          },
          "metadata": {},
          "execution_count": 36
        }
      ]
    },
    {
      "cell_type": "markdown",
      "metadata": {
        "id": "b1qWC2xSFTwA"
      },
      "source": [
        "## References\n",
        "[1] J. Shariq, Phyton Operators, (2020). Accessed on Sept 13, 2021 [Online] Available https://www.geeksforgeeks.org/python-operators/ \\\\\n",
        "[2] S. Campbell, Python Operators: Arithmetic, Logical, Comparison, Assignment, Bitwise & Precedence, (2021). Accessed on Sept 13, 2021. [Online], Available https://www.guru99.com/python-operators-complete-tutorial.html \\\\\n",
        "[3] S. Gadagkar, For Loops in Python, (2020). Accessed on Sept 13, 2021. [Online], Available https://study.com/academy/lesson/for-loops-in-python-definition-examples.html"
      ]
    }
  ]
}