{
  "nbformat": 4,
  "nbformat_minor": 0,
  "metadata": {
    "colab": {
      "name": "Assignment4_Lao.ipynb",
      "provenance": [],
      "collapsed_sections": [],
      "authorship_tag": "ABX9TyNarC/qKASvQMD+1cMI54sQ",
      "include_colab_link": true
    },
    "kernelspec": {
      "name": "python3",
      "display_name": "Python 3"
    },
    "language_info": {
      "name": "python"
    }
  },
  "cells": [
    {
      "cell_type": "markdown",
      "metadata": {
        "id": "view-in-github",
        "colab_type": "text"
      },
      "source": [
        "<a href=\"https://colab.research.google.com/github/HerschellLao/Linear-Algebra-Lab/blob/main/Assignment4_Lao.ipynb\" target=\"_parent\"><img src=\"https://colab.research.google.com/assets/colab-badge.svg\" alt=\"Open In Colab\"/></a>"
      ]
    },
    {
      "cell_type": "markdown",
      "metadata": {
        "id": "ZJ5cKptKg-vB"
      },
      "source": [
        "# Linear Algebra for ECE\n",
        "## Laboratory 4 : Matrices"
      ]
    },
    {
      "cell_type": "markdown",
      "metadata": {
        "id": "J6MMfcV0g5Me"
      },
      "source": [
        "### Objectives\n",
        "At the end of this activity you will be able to:\n",
        "1. Be familiar with matrices and their relation to linear equations.\n",
        "2. Perform basic matrix operations.\n",
        "3. Program and translate matrix equations and operations using Python."
      ]
    },
    {
      "cell_type": "markdown",
      "metadata": {
        "id": "8uN_oTlAe_oJ"
      },
      "source": [
        "#Discussion"
      ]
    },
    {
      "cell_type": "code",
      "metadata": {
        "id": "Zc_C59Y4efm7"
      },
      "source": [
        "import numpy as np\n",
        "import matplotlib.pyplot as plt\n",
        "import scipy.linalg as la\n",
        "%matplotlib inline"
      ],
      "execution_count": 1,
      "outputs": []
    },
    {
      "cell_type": "markdown",
      "metadata": {
        "id": "x_xs48RkhdZB"
      },
      "source": [
        "### Matrices"
      ]
    },
    {
      "cell_type": "markdown",
      "metadata": {
        "id": "nVxQ2LuuheoX"
      },
      "source": [
        "The notation and use of matrices is probably one of the fundamentals of modern computing. Matrices are also handy representations of complex equations or multiple inter-related equations from 2-dimensional equations to even hundreds and thousands of them."
      ]
    },
    {
      "cell_type": "markdown",
      "metadata": {
        "id": "WS9CA3rghkBp"
      },
      "source": [
        "Let's say for example you have $A$ and $B$ as system of equation."
      ]
    },
    {
      "cell_type": "markdown",
      "metadata": {
        "id": "S-btx7ZGhl93"
      },
      "source": [
        "$$\n",
        "A = \\left\\{\n",
        "    \\begin{array}\\\n",
        "        x + y \\\\ \n",
        "        4x - 10y\n",
        "    \\end{array}\n",
        "\\right. \\\\\n",
        "B = \\left\\{\n",
        "    \\begin{array}\\\n",
        "        x+y+z \\\\ \n",
        "        3x -2y -z \\\\\n",
        "        -x + 4y +2z\n",
        "    \\end{array}\n",
        "\\right. $$"
      ]
    },
    {
      "cell_type": "markdown",
      "metadata": {
        "id": "TzSPY-pTjYhM"
      },
      "source": [
        "*We* could see that $A$ is a system of 2 equations with 2 parameters. While $B$ is a system of 3 equations with 3 parameters. We can represent them as matrices as:"
      ]
    },
    {
      "cell_type": "markdown",
      "metadata": {
        "id": "fMPVttxAjZyi"
      },
      "source": [
        "$$\n",
        "A=\\begin{bmatrix} 1 & 1 \\\\ 4 & {-10}\\end{bmatrix} \\\\\n",
        "B=\\begin{bmatrix} 1 & 1 & 1 \\\\ 3 & -2 & -1 \\\\ -1 & 4 & 2\\end{bmatrix}\n",
        "$$"
      ]
    },
    {
      "cell_type": "markdown",
      "metadata": {
        "id": "iN_19httjeuh"
      },
      "source": [
        "So assuming that you already discussed the fundamental representation of matrices, their types, and operations. We'll proceed in doing them in here in Python."
      ]
    },
    {
      "cell_type": "markdown",
      "metadata": {
        "id": "FUYNDRdsjgHk"
      },
      "source": [
        "### Declaring Matrices"
      ]
    },
    {
      "cell_type": "markdown",
      "metadata": {
        "id": "r_egiC6Zjjt_"
      },
      "source": [
        "Just like our previous laboratory activity, we'll represent system of linear equations as a matrix. The entities or numbers in matrices are called the elements of a matrix. These elements are arranged and ordered in rows and columns which form the list/array-like structure of matrices. And just like arrays, these elements are indexed according to their position with respect to their rows and columns. This can be reprsented just like the equation below. Whereas $A$ is a matrix consisting of elements denoted by $a_{i,j}$. Denoted by $i$ is the number of rows in the matrix while $j$ stands for the number of columns.<br>\n",
        "Do note that the $size$ of a matrix is $i\\times j$."
      ]
    },
    {
      "cell_type": "markdown",
      "metadata": {
        "id": "73TF2ktSjm6m"
      },
      "source": [
        "$$A=\\begin{bmatrix}\n",
        "a_{(0,0)}&a_{(0,1)}&\\dots&a_{(0,j-1)}\\\\\n",
        "a_{(1,0)}&a_{(1,1)}&\\dots&a_{(1,j-1)}\\\\\n",
        "\\vdots&\\vdots&\\ddots&\\vdots&\\\\\n",
        "a_{(i-1,0)}&a_{(i-1,1)}&\\dots&a_{(i-1,j-1)}\n",
        "\\end{bmatrix}\n",
        "$$"
      ]
    },
    {
      "cell_type": "markdown",
      "metadata": {
        "id": "dvw2Zg00jp7Z"
      },
      "source": [
        "We already gone over some of the types of matrices as vectors but we'll further discuss them in this laboratory activity. Since you already know how to describe vectors using <b>shape</b>, <b>dimensions</b> and <b>size</b> attributes, we'll use them to analyze these matrices."
      ]
    },
    {
      "cell_type": "code",
      "metadata": {
        "id": "GpyMIhIBj4hr"
      },
      "source": [
        "## Since we'll keep on describing matrices. Let's make a function.\n",
        "def describe_mat(matrix):\n",
        "    print(f'Matrix:\\n{matrix}\\n\\nShape:\\t{matrix.shape}\\nRank:\\t{matrix.ndim}\\n')"
      ],
      "execution_count": 5,
      "outputs": []
    },
    {
      "cell_type": "code",
      "metadata": {
        "colab": {
          "base_uri": "https://localhost:8080/"
        },
        "id": "y28VKYDSj8Eo",
        "outputId": "0f296dc0-b3c8-4a06-fb94-490298f1fa2a"
      },
      "source": [
        "## Declaring a 2 x 2 matrix\n",
        "A = np.array([\n",
        "    [1, 2],\n",
        "    [3, 1]\n",
        "])\n",
        "describe_mat(A)"
      ],
      "execution_count": null,
      "outputs": [
        {
          "output_type": "stream",
          "name": "stdout",
          "text": [
            "Matrix:\n",
            "[[1 2]\n",
            " [3 1]]\n",
            "\n",
            "Shape:\t(2, 2)\n",
            "Rank:\t2\n",
            "\n"
          ]
        }
      ]
    },
    {
      "cell_type": "code",
      "metadata": {
        "colab": {
          "base_uri": "https://localhost:8080/"
        },
        "id": "S6EMtqXLj_oj",
        "outputId": "93c95434-52c7-4e45-9e31-c636fa6dc8b3"
      },
      "source": [
        "G = np.array([\n",
        "    [1,1],\n",
        "    [2,2]\n",
        "])\n",
        "describe_mat(G)"
      ],
      "execution_count": null,
      "outputs": [
        {
          "output_type": "stream",
          "name": "stdout",
          "text": [
            "Matrix:\n",
            "[[1 1]\n",
            " [2 2]]\n",
            "\n",
            "Shape:\t(2, 2)\n",
            "Rank:\t2\n",
            "\n"
          ]
        }
      ]
    },
    {
      "cell_type": "code",
      "metadata": {
        "colab": {
          "base_uri": "https://localhost:8080/"
        },
        "id": "6pO6uemtkCdo",
        "outputId": "77567f61-284c-4efc-b5ea-a142d61f53d2"
      },
      "source": [
        "## Declaring a 3 x 2 matrix\n",
        "B = np.array([\n",
        "    [8, 2],\n",
        "    [5, 4],\n",
        "    [1, 1]\n",
        "])\n",
        "describe_mat(B)"
      ],
      "execution_count": null,
      "outputs": [
        {
          "output_type": "stream",
          "name": "stdout",
          "text": [
            "Matrix:\n",
            "[[8 2]\n",
            " [5 4]\n",
            " [1 1]]\n",
            "\n",
            "Shape:\t(3, 2)\n",
            "Rank:\t2\n",
            "\n"
          ]
        }
      ]
    },
    {
      "cell_type": "code",
      "metadata": {
        "colab": {
          "base_uri": "https://localhost:8080/"
        },
        "id": "LS2nQMMhkIfe",
        "outputId": "d9b85ac4-2e91-4aec-b0fe-1c3eb9dc1083"
      },
      "source": [
        "H = np.array([1,2,3,4,5])\n",
        "describe_mat(H)"
      ],
      "execution_count": null,
      "outputs": [
        {
          "output_type": "stream",
          "name": "stdout",
          "text": [
            "Matrix:\n",
            "[1 2 3 4 5]\n",
            "\n",
            "Shape:\t(5,)\n",
            "Rank:\t1\n",
            "\n"
          ]
        }
      ]
    },
    {
      "cell_type": "markdown",
      "metadata": {
        "id": "PU0G8SKEkOXf"
      },
      "source": [
        "## Categorizing Matrices"
      ]
    },
    {
      "cell_type": "markdown",
      "metadata": {
        "id": "T-mp3Q_tkPlt"
      },
      "source": [
        "There are several ways of classifying matrices. Once could be according to their <b>shape</b> and another is according to their <b>element values</b>. We'll try to go through them."
      ]
    },
    {
      "cell_type": "markdown",
      "metadata": {
        "id": "BAlt7dvwkVEu"
      },
      "source": [
        "### According to shape"
      ]
    },
    {
      "cell_type": "markdown",
      "metadata": {
        "id": "_FhUCJ-vkW9-"
      },
      "source": [
        "#### Row and Column Matrices"
      ]
    },
    {
      "cell_type": "markdown",
      "metadata": {
        "id": "41ST3aEKlC7Z"
      },
      "source": [
        "Row and column matrices are common in vector and matrix computations. They can also represent row and column spaces of a bigger vector space. Row and column matrices are represented by a single column or single row. So with that being, the shape of row matrices would be $1 \\times j$ and column matrices would be $i \\times 1$."
      ]
    },
    {
      "cell_type": "code",
      "metadata": {
        "id": "VTkpG0JOkaOP",
        "colab": {
          "base_uri": "https://localhost:8080/",
          "height": 333
        },
        "outputId": "28213130-64aa-443e-e735-1b43bb409bf3"
      },
      "source": [
        "## Declaring a Row Matrix\n",
        "\n",
        "row_mat_1D = np.array([\n",
        "    1, 3, 2\n",
        "]) ## this is a 1-D Matrix with a shape of (3,), it's not really considered as a row matrix.\n",
        "row_mat_2D = np.array([\n",
        "    [1,2,3]\n",
        "]) ## this is a 2-D Matrix with a shape of (1,3)\n",
        "describe_mat(row_mat_1D)\n",
        "describe_mat(row_mat_2D)"
      ],
      "execution_count": 24,
      "outputs": [
        {
          "output_type": "error",
          "ename": "IndexError",
          "evalue": "ignored",
          "traceback": [
            "\u001b[0;31m---------------------------------------------------------------------------\u001b[0m",
            "\u001b[0;31mIndexError\u001b[0m                                Traceback (most recent call last)",
            "\u001b[0;32m<ipython-input-24-7c86a0ac3c8d>\u001b[0m in \u001b[0;36m<module>\u001b[0;34m()\u001b[0m\n\u001b[1;32m      7\u001b[0m     \u001b[0;34m[\u001b[0m\u001b[0;36m1\u001b[0m\u001b[0;34m,\u001b[0m\u001b[0;36m2\u001b[0m\u001b[0;34m,\u001b[0m\u001b[0;36m3\u001b[0m\u001b[0;34m]\u001b[0m\u001b[0;34m\u001b[0m\u001b[0;34m\u001b[0m\u001b[0m\n\u001b[1;32m      8\u001b[0m ]) ## this is a 2-D Matrix with a shape of (1,3)\n\u001b[0;32m----> 9\u001b[0;31m \u001b[0mdescribe_mat\u001b[0m\u001b[0;34m(\u001b[0m\u001b[0mrow_mat_1D\u001b[0m\u001b[0;34m)\u001b[0m\u001b[0;34m\u001b[0m\u001b[0;34m\u001b[0m\u001b[0m\n\u001b[0m\u001b[1;32m     10\u001b[0m \u001b[0mdescribe_mat\u001b[0m\u001b[0;34m(\u001b[0m\u001b[0mrow_mat_2D\u001b[0m\u001b[0;34m)\u001b[0m\u001b[0;34m\u001b[0m\u001b[0;34m\u001b[0m\u001b[0m\n",
            "\u001b[0;32m<ipython-input-22-3cb476daf687>\u001b[0m in \u001b[0;36mdescribe_mat\u001b[0;34m(matrix)\u001b[0m\n\u001b[1;32m      1\u001b[0m \u001b[0;32mdef\u001b[0m \u001b[0mdescribe_mat\u001b[0m\u001b[0;34m(\u001b[0m\u001b[0mmatrix\u001b[0m\u001b[0;34m)\u001b[0m\u001b[0;34m:\u001b[0m\u001b[0;34m\u001b[0m\u001b[0;34m\u001b[0m\u001b[0m\n\u001b[1;32m      2\u001b[0m     \u001b[0;32mif\u001b[0m \u001b[0mmatrix\u001b[0m\u001b[0;34m.\u001b[0m\u001b[0msize\u001b[0m \u001b[0;34m>\u001b[0m \u001b[0;36m0\u001b[0m\u001b[0;34m:\u001b[0m\u001b[0;34m\u001b[0m\u001b[0;34m\u001b[0m\u001b[0m\n\u001b[0;32m----> 3\u001b[0;31m         \u001b[0mis_square\u001b[0m \u001b[0;34m=\u001b[0m \u001b[0;32mTrue\u001b[0m \u001b[0;32mif\u001b[0m \u001b[0mmatrix\u001b[0m\u001b[0;34m.\u001b[0m\u001b[0mshape\u001b[0m\u001b[0;34m[\u001b[0m\u001b[0;36m0\u001b[0m\u001b[0;34m]\u001b[0m \u001b[0;34m==\u001b[0m \u001b[0mmatrix\u001b[0m\u001b[0;34m.\u001b[0m\u001b[0mshape\u001b[0m\u001b[0;34m[\u001b[0m\u001b[0;36m1\u001b[0m\u001b[0;34m]\u001b[0m \u001b[0;32melse\u001b[0m \u001b[0;32mFalse\u001b[0m\u001b[0;34m\u001b[0m\u001b[0;34m\u001b[0m\u001b[0m\n\u001b[0m\u001b[1;32m      4\u001b[0m         \u001b[0mprint\u001b[0m\u001b[0;34m(\u001b[0m\u001b[0;34mf'Matrix:\\n{matrix}\\n\\nShape:\\t{matrix.shape}\\nRank:\\t{matrix.ndim}\\nIs Square: {is_square}\\n'\u001b[0m\u001b[0;34m)\u001b[0m\u001b[0;34m\u001b[0m\u001b[0;34m\u001b[0m\u001b[0m\n\u001b[1;32m      5\u001b[0m     \u001b[0;32melse\u001b[0m\u001b[0;34m:\u001b[0m\u001b[0;34m\u001b[0m\u001b[0;34m\u001b[0m\u001b[0m\n",
            "\u001b[0;31mIndexError\u001b[0m: tuple index out of range"
          ]
        }
      ]
    },
    {
      "cell_type": "code",
      "metadata": {
        "id": "TvbBTcrHlJZr",
        "colab": {
          "base_uri": "https://localhost:8080/"
        },
        "outputId": "b7444f84-2861-49d4-ac10-4da84e1afd01"
      },
      "source": [
        "## Declaring a Column Matrix\n",
        "\n",
        "col_mat = np.array([\n",
        "    [1],\n",
        "    [2],\n",
        "    [5]\n",
        "]) ## this is a 2-D Matrix with a shape of (3,1)\n",
        "describe_mat(col_mat)"
      ],
      "execution_count": 25,
      "outputs": [
        {
          "output_type": "stream",
          "name": "stdout",
          "text": [
            "Matrix:\n",
            "[[1]\n",
            " [2]\n",
            " [5]]\n",
            "\n",
            "Shape:\t(3, 1)\n",
            "Rank:\t2\n",
            "Is Square: False\n",
            "\n"
          ]
        }
      ]
    },
    {
      "cell_type": "markdown",
      "metadata": {
        "id": "-WVifRGzlMX5"
      },
      "source": [
        "#### Square Matrices"
      ]
    },
    {
      "cell_type": "markdown",
      "metadata": {
        "id": "zG3vEGdflPBL"
      },
      "source": [
        "Square matrices are matrices that have the same row and column sizes. We could say a matrix is square if $i = j$. We can tweak our matrix descriptor function to determine square matrices."
      ]
    },
    {
      "cell_type": "code",
      "metadata": {
        "id": "f8eyqb6VlNTE"
      },
      "source": [
        "def describe_mat(matrix):\n",
        "    is_square = True if matrix.shape[0] == matrix.shape[1] else False \n",
        "    print(f'Matrix:\\n{matrix}\\n\\nShape:\\t{matrix.shape}\\nRank:\\t{matrix.ndim}\\nIs Square: {is_square}\\n')"
      ],
      "execution_count": 7,
      "outputs": []
    },
    {
      "cell_type": "code",
      "metadata": {
        "id": "8tsC1Kd9lRb_"
      },
      "source": [
        "square_mat = np.array([\n",
        "    [1,2,5],\n",
        "    [3,3,8],\n",
        "    [6,1,2]\n",
        "])\n",
        "\n",
        "non_square_mat = np.array([\n",
        "    [1,2,5],\n",
        "    [3,3,8]\n",
        "])\n",
        "describe_mat(square_mat)\n",
        "describe_mat(non_square_mat)"
      ],
      "execution_count": null,
      "outputs": []
    },
    {
      "cell_type": "markdown",
      "metadata": {
        "id": "wRyI-EzOlr-h"
      },
      "source": [
        "### According to element values"
      ]
    },
    {
      "cell_type": "markdown",
      "metadata": {
        "id": "iC-o8uiolxDw"
      },
      "source": [
        "#### Null Matrix"
      ]
    },
    {
      "cell_type": "code",
      "metadata": {
        "id": "Wj77Ocmqlu15"
      },
      "source": [
        "def describe_mat(matrix):\n",
        "    if matrix.size > 0:\n",
        "        is_square = True if matrix.shape[0] == matrix.shape[1] else False \n",
        "        print(f'Matrix:\\n{matrix}\\n\\nShape:\\t{matrix.shape}\\nRank:\\t{matrix.ndim}\\nIs Square: {is_square}\\n')\n",
        "    else:\n",
        "        print('Matrix is Null')"
      ],
      "execution_count": 22,
      "outputs": []
    },
    {
      "cell_type": "code",
      "metadata": {
        "id": "ZaR_67R4l1U6",
        "colab": {
          "base_uri": "https://localhost:8080/"
        },
        "outputId": "004d9950-b269-4868-98f8-f27bf4a1c17b"
      },
      "source": [
        "null_mat = np.array([])\n",
        "describe_mat(null_mat)"
      ],
      "execution_count": 23,
      "outputs": [
        {
          "output_type": "stream",
          "name": "stdout",
          "text": [
            "Matrix is Null\n"
          ]
        }
      ]
    },
    {
      "cell_type": "markdown",
      "metadata": {
        "id": "sVIlf5syl28-"
      },
      "source": [
        "#### Zero Matrix"
      ]
    },
    {
      "cell_type": "markdown",
      "metadata": {
        "id": "Ii5UuNKHl8XI"
      },
      "source": [
        "A zero matrix can be any rectangular matrix but with all elements having a value of 0."
      ]
    },
    {
      "cell_type": "code",
      "metadata": {
        "id": "qNRiqpj0mBAd",
        "colab": {
          "base_uri": "https://localhost:8080/"
        },
        "outputId": "3de7ea39-950f-43e7-c8cb-a3d74902f512"
      },
      "source": [
        "zero_mat_row = np.zeros((1,2))\n",
        "zero_mat_sqr = np.zeros((2,2))\n",
        "zero_mat_rct = np.zeros((3,2))\n",
        "\n",
        "print(f'Zero Row Matrix: \\n{zero_mat_row}')\n",
        "print(f'Zero Square Matrix: \\n{zero_mat_sqr}')\n",
        "print(f'Zero Rectangular Matrix: \\n{zero_mat_rct}')"
      ],
      "execution_count": 21,
      "outputs": [
        {
          "output_type": "stream",
          "name": "stdout",
          "text": [
            "Zero Row Matrix: \n",
            "[[0. 0.]]\n",
            "Zero Square Matrix: \n",
            "[[0. 0.]\n",
            " [0. 0.]]\n",
            "Zero Rectangular Matrix: \n",
            "[[0. 0.]\n",
            " [0. 0.]\n",
            " [0. 0.]]\n"
          ]
        }
      ]
    },
    {
      "cell_type": "markdown",
      "metadata": {
        "id": "J2XRw_M084LW"
      },
      "source": [
        "#### Ones Matrix"
      ]
    },
    {
      "cell_type": "markdown",
      "metadata": {
        "id": "GQWZy3Ss9CUb"
      },
      "source": [
        "A ones matrix, just like the zero matrix, can be any rectangular matrix but all of its elements are 1s instead of 0s."
      ]
    },
    {
      "cell_type": "code",
      "metadata": {
        "id": "9B_5CgZg9EPq",
        "colab": {
          "base_uri": "https://localhost:8080/"
        },
        "outputId": "e8b689ea-cff3-4cbc-d12b-5b50273870d5"
      },
      "source": [
        "ones_mat_row = np.ones((1,2))\n",
        "ones_mat_sqr = np.ones((2,2))\n",
        "ones_mat_rct = np.ones((3,2))\n",
        "\n",
        "print(f'Ones Row Matrix: \\n{ones_mat_row}')\n",
        "print(f'Ones Square Matrix: \\n{ones_mat_sqr}')\n",
        "print(f'Ones Rectangular Matrix: \\n{ones_mat_rct}')"
      ],
      "execution_count": 20,
      "outputs": [
        {
          "output_type": "stream",
          "name": "stdout",
          "text": [
            "Ones Row Matrix: \n",
            "[[1. 1.]]\n",
            "Ones Square Matrix: \n",
            "[[1. 1.]\n",
            " [1. 1.]]\n",
            "Ones Rectangular Matrix: \n",
            "[[1. 1.]\n",
            " [1. 1.]\n",
            " [1. 1.]]\n"
          ]
        }
      ]
    },
    {
      "cell_type": "markdown",
      "metadata": {
        "id": "iJbgReP39Kln"
      },
      "source": [
        "#### Diagonal Matrix"
      ]
    },
    {
      "cell_type": "markdown",
      "metadata": {
        "id": "4xd2WIM49Kco"
      },
      "source": [
        "A diagonal matrix is a square matrix that has values only at the diagonal of the matrix. "
      ]
    },
    {
      "cell_type": "code",
      "metadata": {
        "id": "-fpl7WT89Lgx"
      },
      "source": [
        "np.array([\n",
        "    [2,0,0],\n",
        "    [0,3,0],\n",
        "    [0,0,5]\n",
        "])\n",
        "# a[1,1], a[2,2], a[3,3], ... a[n-1,n-1]"
      ],
      "execution_count": null,
      "outputs": []
    },
    {
      "cell_type": "code",
      "metadata": {
        "id": "m4Y_ApST9uLv"
      },
      "source": [
        "d = np.diag([2,3,5,7])\n",
        "np.diag(d).shape == d.shape[0] == d.shape[1]\n"
      ],
      "execution_count": null,
      "outputs": []
    },
    {
      "cell_type": "markdown",
      "metadata": {
        "id": "xMIIX9_G-GZn"
      },
      "source": [
        "#### Identity Matrix"
      ]
    },
    {
      "cell_type": "markdown",
      "metadata": {
        "id": "Ywj2eOK--G6S"
      },
      "source": [
        "An identity matrix is a special diagonal matrix in which the values at the diagonal are ones."
      ]
    },
    {
      "cell_type": "code",
      "metadata": {
        "colab": {
          "base_uri": "https://localhost:8080/"
        },
        "id": "W0INSI0z-HUi",
        "outputId": "45093a61-be77-4536-af7e-b838ae952adf"
      },
      "source": [
        "np.eye(5)"
      ],
      "execution_count": null,
      "outputs": [
        {
          "output_type": "execute_result",
          "data": {
            "text/plain": [
              "array([[1., 0., 0., 0., 0.],\n",
              "       [0., 1., 0., 0., 0.],\n",
              "       [0., 0., 1., 0., 0.],\n",
              "       [0., 0., 0., 1., 0.],\n",
              "       [0., 0., 0., 0., 1.]])"
            ]
          },
          "metadata": {},
          "execution_count": 21
        }
      ]
    },
    {
      "cell_type": "code",
      "metadata": {
        "colab": {
          "base_uri": "https://localhost:8080/"
        },
        "id": "4RK281Eg-HfS",
        "outputId": "20d7a5d9-b1ed-4733-e976-36aeebe1ed86"
      },
      "source": [
        "np.identity(5)"
      ],
      "execution_count": null,
      "outputs": [
        {
          "output_type": "execute_result",
          "data": {
            "text/plain": [
              "array([[1., 0., 0., 0., 0.],\n",
              "       [0., 1., 0., 0., 0.],\n",
              "       [0., 0., 1., 0., 0.],\n",
              "       [0., 0., 0., 1., 0.],\n",
              "       [0., 0., 0., 0., 1.]])"
            ]
          },
          "metadata": {},
          "execution_count": 22
        }
      ]
    },
    {
      "cell_type": "markdown",
      "metadata": {
        "id": "gNrmNpf6-Up0"
      },
      "source": [
        "#### Upper Triangular Matrix"
      ]
    },
    {
      "cell_type": "markdown",
      "metadata": {
        "id": "WCr2jZEY-U85"
      },
      "source": [
        "An upper triangular matrix is a matrix that has no values below the diagonal. "
      ]
    },
    {
      "cell_type": "code",
      "metadata": {
        "colab": {
          "base_uri": "https://localhost:8080/"
        },
        "id": "-_DR3tyj-VO8",
        "outputId": "26681d53-9965-43a6-8457-c59bf37179ae"
      },
      "source": [
        "np.array([\n",
        "    [1,2,3],\n",
        "    [0,3,1],\n",
        "    [0,0,5]\n",
        "])"
      ],
      "execution_count": 19,
      "outputs": [
        {
          "output_type": "execute_result",
          "data": {
            "text/plain": [
              "array([[1, 2, 3],\n",
              "       [0, 3, 1],\n",
              "       [0, 0, 5]])"
            ]
          },
          "metadata": {},
          "execution_count": 19
        }
      ]
    },
    {
      "cell_type": "markdown",
      "metadata": {
        "id": "vRursBv5-eBU"
      },
      "source": [
        "#### Lower Triangular Matrix"
      ]
    },
    {
      "cell_type": "markdown",
      "metadata": {
        "id": "F_m4M_qc-eaS"
      },
      "source": [
        "A lower triangular matrix is a matrix that has no values above the diagonal."
      ]
    },
    {
      "cell_type": "code",
      "metadata": {
        "colab": {
          "base_uri": "https://localhost:8080/"
        },
        "id": "Vq__suTu-etY",
        "outputId": "e8ca0a3b-774b-4257-d896-9b15ff79539e"
      },
      "source": [
        "np.array([\n",
        "    [1,0,0],\n",
        "    [5,3,0],\n",
        "    [7,8,5]\n",
        "])"
      ],
      "execution_count": 18,
      "outputs": [
        {
          "output_type": "execute_result",
          "data": {
            "text/plain": [
              "array([[1, 0, 0],\n",
              "       [5, 3, 0],\n",
              "       [7, 8, 5]])"
            ]
          },
          "metadata": {},
          "execution_count": 18
        }
      ]
    },
    {
      "cell_type": "markdown",
      "metadata": {
        "id": "TbOyZsgB-xzs"
      },
      "source": [
        "## Practice"
      ]
    },
    {
      "cell_type": "markdown",
      "metadata": {
        "id": "3yMb-3BZ-2Qf"
      },
      "source": [
        "1. Given the linear combination below, try to create a corresponding matrix representing it."
      ]
    },
    {
      "cell_type": "markdown",
      "metadata": {
        "id": "eyBIShwC-5Qr"
      },
      "source": [
        "$$\\theta = 5x + 3y - z$$"
      ]
    },
    {
      "cell_type": "code",
      "metadata": {
        "id": "g5x37y6y-9FN",
        "colab": {
          "base_uri": "https://localhost:8080/"
        },
        "outputId": "00c29a19-83db-4ebd-b440-1e27cd1d7131"
      },
      "source": [
        "theta = np.array([[5 , 3 , -1]])\n",
        "describe_mat(theta)"
      ],
      "execution_count": 8,
      "outputs": [
        {
          "output_type": "stream",
          "name": "stdout",
          "text": [
            "Matrix:\n",
            "[[ 5  3 -1]]\n",
            "\n",
            "Shape:\t(1, 3)\n",
            "Rank:\t2\n",
            "Is Square: False\n",
            "\n"
          ]
        }
      ]
    },
    {
      "cell_type": "markdown",
      "metadata": {
        "id": "C7lIyOJ6-9ei"
      },
      "source": [
        "2. Given the system of linear combinations below, try to encode it as a matrix. Also describe the matrix."
      ]
    },
    {
      "cell_type": "markdown",
      "metadata": {
        "id": "JayZizsk_OWr"
      },
      "source": [
        "$$\n",
        "A = \\left\\{\\begin{array}\n",
        "5x_1 + 2x_2 +x_3\\\\\n",
        "4x_2 - x_3\\\\\n",
        "10x_3\n",
        "\\end{array}\\right.\n",
        "$$"
      ]
    },
    {
      "cell_type": "code",
      "metadata": {
        "id": "cdVzja3__QX9",
        "colab": {
          "base_uri": "https://localhost:8080/"
        },
        "outputId": "46e2be09-6961-4dac-9a7b-6b78f0971f12"
      },
      "source": [
        "A=np.array([\n",
        "            [1,2,1],\n",
        "            [0,4,-1],\n",
        "            [0,0,10]\n",
        "])\n",
        "describe_mat(A)"
      ],
      "execution_count": 14,
      "outputs": [
        {
          "output_type": "stream",
          "name": "stdout",
          "text": [
            "Matrix:\n",
            "[[ 1  2  1]\n",
            " [ 0  4 -1]\n",
            " [ 0  0 10]]\n",
            "\n",
            "Shape:\t(3, 3)\n",
            "Rank:\t2\n",
            "Is Square: True\n",
            "\n"
          ]
        }
      ]
    },
    {
      "cell_type": "markdown",
      "metadata": {
        "id": "gNNMGbKg_RHM"
      },
      "source": [
        "3. Given the matrix below, express it as a linear combination in a markdown."
      ]
    },
    {
      "cell_type": "code",
      "metadata": {
        "id": "HcbIgbfx_VeR"
      },
      "source": [
        "G = np.array([\n",
        "    [1,7,8],\n",
        "    [2,2,2],\n",
        "    [4,6,7]\n",
        "])\n"
      ],
      "execution_count": null,
      "outputs": []
    },
    {
      "cell_type": "markdown",
      "metadata": {
        "id": "zzc9wzZt_ZTF"
      },
      "source": [
        "G=\\begin{bmatrix} 1 & 7 & 8 \\\\ 2 & 2 & 2 \\\\ 4 & 6 & 7\\end{bmatrix}"
      ]
    },
    {
      "cell_type": "markdown",
      "metadata": {
        "id": "6sVgNEe-_Zlv"
      },
      "source": [
        "$$\n",
        "G = \\left\\{\n",
        "    \\begin{array}\\\n",
        "        x + 7x_2+8x_3\\\\\n",
        "        2x + 2x_2+2x_3\\\\\n",
        "        4x+6x_2+7x_3\n",
        "    \\end{array}\n",
        "\\right. \\\\\n",
        "$$"
      ]
    },
    {
      "cell_type": "markdown",
      "metadata": {
        "id": "tYMKpKDV_dh0"
      },
      "source": [
        "4. Given the matrix below, display the output as a LaTeX makdown also express it as a system of linear combinations."
      ]
    },
    {
      "cell_type": "code",
      "metadata": {
        "colab": {
          "base_uri": "https://localhost:8080/",
          "height": 180
        },
        "id": "8HvBSQk2_f5z",
        "outputId": "0193b19e-eb45-4700-c601-be8093e5a368"
      },
      "source": [
        "K = np.tril(G)\n",
        "K"
      ],
      "execution_count": 33,
      "outputs": [
        {
          "output_type": "error",
          "ename": "NameError",
          "evalue": "ignored",
          "traceback": [
            "\u001b[0;31m---------------------------------------------------------------------------\u001b[0m",
            "\u001b[0;31mNameError\u001b[0m                                 Traceback (most recent call last)",
            "\u001b[0;32m<ipython-input-33-b064e99b0c56>\u001b[0m in \u001b[0;36m<module>\u001b[0;34m()\u001b[0m\n\u001b[0;32m----> 1\u001b[0;31m \u001b[0mK\u001b[0m \u001b[0;34m=\u001b[0m \u001b[0mnp\u001b[0m\u001b[0;34m.\u001b[0m\u001b[0mtril\u001b[0m\u001b[0;34m(\u001b[0m\u001b[0mG\u001b[0m\u001b[0;34m)\u001b[0m\u001b[0;34m\u001b[0m\u001b[0;34m\u001b[0m\u001b[0m\n\u001b[0m\u001b[1;32m      2\u001b[0m \u001b[0mK\u001b[0m\u001b[0;34m\u001b[0m\u001b[0;34m\u001b[0m\u001b[0m\n",
            "\u001b[0;31mNameError\u001b[0m: name 'G' is not defined"
          ]
        }
      ]
    },
    {
      "cell_type": "markdown",
      "metadata": {
        "id": "q_W9egoz_j2u"
      },
      "source": [
        "# Matrix Algebra"
      ]
    },
    {
      "cell_type": "markdown",
      "metadata": {
        "id": "NxW2AT_p_kgx"
      },
      "source": [
        "### Addition"
      ]
    },
    {
      "cell_type": "code",
      "metadata": {
        "colab": {
          "base_uri": "https://localhost:8080/"
        },
        "id": "PRqCopoc_m3D",
        "outputId": "40195240-8425-4643-ee92-631b86b65175"
      },
      "source": [
        "A = np.array([\n",
        "    [1,2],\n",
        "    [2,3],\n",
        "    [4,1]\n",
        "])\n",
        "B = np.array([\n",
        "    [2,2],\n",
        "    [0,0],\n",
        "    [1,1]\n",
        "])\n",
        "A+B"
      ],
      "execution_count": null,
      "outputs": [
        {
          "output_type": "execute_result",
          "data": {
            "text/plain": [
              "array([[3, 4],\n",
              "       [2, 3],\n",
              "       [5, 2]])"
            ]
          },
          "metadata": {},
          "execution_count": 27
        }
      ]
    },
    {
      "cell_type": "code",
      "metadata": {
        "colab": {
          "base_uri": "https://localhost:8080/"
        },
        "id": "SJZUOyW6_rbh",
        "outputId": "f3a43cae-4748-4c26-e387-531dc2f67ef5"
      },
      "source": [
        "2+A ##Broadcasting\n",
        "# 2*np.ones(A.shape)+A"
      ],
      "execution_count": null,
      "outputs": [
        {
          "output_type": "execute_result",
          "data": {
            "text/plain": [
              "array([[3, 4],\n",
              "       [4, 5],\n",
              "       [6, 3]])"
            ]
          },
          "metadata": {},
          "execution_count": 28
        }
      ]
    },
    {
      "cell_type": "markdown",
      "metadata": {
        "id": "gmP-bmwN_toL"
      },
      "source": [
        "### Subtraction"
      ]
    },
    {
      "cell_type": "code",
      "metadata": {
        "colab": {
          "base_uri": "https://localhost:8080/"
        },
        "id": "fp_h39sd_yyd",
        "outputId": "37da5cba-9d34-40b1-930e-a795141f74bc"
      },
      "source": [
        "A-B"
      ],
      "execution_count": null,
      "outputs": [
        {
          "output_type": "execute_result",
          "data": {
            "text/plain": [
              "array([[-1,  0],\n",
              "       [ 2,  3],\n",
              "       [ 3,  0]])"
            ]
          },
          "metadata": {},
          "execution_count": 29
        }
      ]
    },
    {
      "cell_type": "code",
      "metadata": {
        "colab": {
          "base_uri": "https://localhost:8080/"
        },
        "id": "xZDvEqhdAnMJ",
        "outputId": "703ebf72-e203-48e9-e65f-838f6d769317"
      },
      "source": [
        "3-B == 3*np.ones(B.shape)-B"
      ],
      "execution_count": null,
      "outputs": [
        {
          "output_type": "execute_result",
          "data": {
            "text/plain": [
              "array([[ True,  True],\n",
              "       [ True,  True],\n",
              "       [ True,  True]])"
            ]
          },
          "metadata": {},
          "execution_count": 34
        }
      ]
    },
    {
      "cell_type": "markdown",
      "metadata": {
        "id": "lUHFLkE2AsCc"
      },
      "source": [
        "### Element-wise Multiplication"
      ]
    },
    {
      "cell_type": "code",
      "metadata": {
        "colab": {
          "base_uri": "https://localhost:8080/"
        },
        "id": "9ifdshaQAvyo",
        "outputId": "fb52db05-bc11-40c0-a359-533fd07e87d1"
      },
      "source": [
        "A*B\n",
        "np.multiply(A,B)"
      ],
      "execution_count": null,
      "outputs": [
        {
          "output_type": "execute_result",
          "data": {
            "text/plain": [
              "array([[2, 4],\n",
              "       [0, 0],\n",
              "       [4, 1]])"
            ]
          },
          "metadata": {},
          "execution_count": 35
        }
      ]
    },
    {
      "cell_type": "code",
      "metadata": {
        "colab": {
          "base_uri": "https://localhost:8080/"
        },
        "id": "qwpsEOXj_0rA",
        "outputId": "4ffe384b-f79b-456d-a2e1-1347825d5d04"
      },
      "source": [
        "2*A"
      ],
      "execution_count": null,
      "outputs": [
        {
          "output_type": "execute_result",
          "data": {
            "text/plain": [
              "array([[2, 4],\n",
              "       [4, 6],\n",
              "       [8, 2]])"
            ]
          },
          "metadata": {},
          "execution_count": 30
        }
      ]
    },
    {
      "cell_type": "code",
      "metadata": {
        "id": "UagDlgZYABgS"
      },
      "source": [
        "A@B"
      ],
      "execution_count": null,
      "outputs": []
    },
    {
      "cell_type": "code",
      "metadata": {
        "colab": {
          "base_uri": "https://localhost:8080/"
        },
        "id": "V38mOf-5AEsa",
        "outputId": "9098ce6e-e73e-488a-83e3-79f06a72fce9"
      },
      "source": [
        "alpha=10**-10\n",
        "A/(alpha+B)"
      ],
      "execution_count": null,
      "outputs": [
        {
          "output_type": "execute_result",
          "data": {
            "text/plain": [
              "array([[5.e-01, 1.e+00],\n",
              "       [2.e+10, 3.e+10],\n",
              "       [4.e+00, 1.e+00]])"
            ]
          },
          "metadata": {},
          "execution_count": 32
        }
      ]
    },
    {
      "cell_type": "code",
      "metadata": {
        "colab": {
          "base_uri": "https://localhost:8080/"
        },
        "id": "OlbC7mOHAG3D",
        "outputId": "e112d917-7224-432f-9484-53aea7f25b7b"
      },
      "source": [
        "np.add(A,B)"
      ],
      "execution_count": null,
      "outputs": [
        {
          "output_type": "execute_result",
          "data": {
            "text/plain": [
              "array([[3, 4],\n",
              "       [2, 3],\n",
              "       [5, 2]])"
            ]
          },
          "metadata": {},
          "execution_count": 33
        }
      ]
    },
    {
      "cell_type": "markdown",
      "metadata": {
        "id": "b3_VShXxA45K"
      },
      "source": [
        "## Activity"
      ]
    },
    {
      "cell_type": "markdown",
      "metadata": {
        "id": "DhMsb8scBJ7p"
      },
      "source": [
        "### Task 1"
      ]
    },
    {
      "cell_type": "markdown",
      "metadata": {
        "id": "C2ICRUuUBLJV"
      },
      "source": [
        "Create a function named `desc_mat()` that througouhly describes a matrix, it should: <br>\n",
        "1. Displays the shape, size, and rank of the matrix. <br>\n",
        "2. Displays whether the matrix is square or non-square. <br>\n",
        "3. Displays whether the matrix is an empty matrix. <br>\n",
        "4. Displays if the matrix is an identity, ones, or zeros matrix <br>\n",
        "   \n",
        "Use sample matrices in which their shapes are not lower than $(3,3)$.\n",
        "In your methodology, create a flowchart discuss the functions and methods you have done. Present your results in the results section showing the description of each matrix you have declared."
      ]
    },
    {
      "cell_type": "code",
      "metadata": {
        "id": "88dakrq4vdEz"
      },
      "source": [
        "##Function Area"
      ],
      "execution_count": null,
      "outputs": []
    },
    {
      "cell_type": "code",
      "metadata": {
        "id": "UmlJNK85VghO"
      },
      "source": [
        "import numpy as np\n",
        "import matplotlib.pyplot as plt\n",
        "import scipy.linalg as la\n",
        "%matplotlib inline"
      ],
      "execution_count": 2,
      "outputs": []
    },
    {
      "cell_type": "code",
      "metadata": {
        "id": "gyWA1R3RB4s5"
      },
      "source": [
        "def desc_mat(matrix):\n",
        "    print(f'Matrix:\\n{matrix}\\n\\nShape:\\t{matrix.shape}\\nRank:\\t{matrix.ndim}\\n')"
      ],
      "execution_count": 26,
      "outputs": []
    },
    {
      "cell_type": "code",
      "metadata": {
        "id": "r16SJcjDB_51"
      },
      "source": [
        "def desc_mat(matrix):\n",
        "    is_square = True if matrix.shape[0] == matrix.shape[1] else False \n",
        "    print(f'Matrix:\\n{matrix}\\n\\nShape:\\t{matrix.shape}\\nRank:\\t{matrix.ndim}\\nIs Square: {is_square}\\n')"
      ],
      "execution_count": 27,
      "outputs": []
    },
    {
      "cell_type": "code",
      "metadata": {
        "id": "RjnMlkzuxm-h"
      },
      "source": [
        "def desc_mat(matrix):\n",
        "    if matrix.size > 0:\n",
        "        is_square = True if matrix.shape[0] == matrix.shape[1] else False \n",
        "        print(f'Matrix:\\n{matrix}\\n\\nShape:\\t{matrix.shape}\\nRank:\\t{matrix.ndim}\\nIs Square: {is_square}\\n')\n",
        "    else:\n",
        "        print('Matrix is Null')"
      ],
      "execution_count": 28,
      "outputs": []
    },
    {
      "cell_type": "code",
      "metadata": {
        "id": "6iO-aOO5v0aY"
      },
      "source": [
        "##Matrix Declaration"
      ],
      "execution_count": null,
      "outputs": []
    },
    {
      "cell_type": "code",
      "metadata": {
        "colab": {
          "base_uri": "https://localhost:8080/"
        },
        "id": "qA5a4KS8KS6N",
        "outputId": "c62a4954-f21d-45ed-9496-03173927adf3"
      },
      "source": [
        "square_mat = np.array([\n",
        "    [4,5,5],\n",
        "    [6,7,8],\n",
        "    [9,2,3]\n",
        "])\n",
        "\n",
        "non_square_mat = np.array([\n",
        "    [3,3,8],\n",
        "    [4,5,9],\n",
        "    [2,3,4],\n",
        "    [7,7,7]\n",
        "])\n",
        "desc_mat(square_mat)\n",
        "desc_mat(non_square_mat)"
      ],
      "execution_count": null,
      "outputs": [
        {
          "output_type": "stream",
          "name": "stdout",
          "text": [
            "Matrix:\n",
            "[[4 5 5]\n",
            " [6 7 8]\n",
            " [9 2 3]]\n",
            "\n",
            "Shape:\t(3, 3)\n",
            "Rank:\t2\n",
            "Is Square: True\n",
            "\n",
            "Matrix:\n",
            "[[3 3 8]\n",
            " [4 5 9]\n",
            " [2 3 4]\n",
            " [7 7 7]]\n",
            "\n",
            "Shape:\t(4, 3)\n",
            "Rank:\t2\n",
            "Is Square: False\n",
            "\n"
          ]
        }
      ]
    },
    {
      "cell_type": "code",
      "metadata": {
        "id": "JEFRql3SxzHW"
      },
      "source": [
        "##Test Area"
      ],
      "execution_count": null,
      "outputs": []
    },
    {
      "cell_type": "code",
      "metadata": {
        "colab": {
          "base_uri": "https://localhost:8080/"
        },
        "id": "3x9uRPnyw3IF",
        "outputId": "089a0a03-a26b-42bd-9f4a-b409e42cb766"
      },
      "source": [
        "null_mat = np.array([])\n",
        "desc_mat(null_mat)"
      ],
      "execution_count": null,
      "outputs": [
        {
          "output_type": "stream",
          "name": "stdout",
          "text": [
            "Matrix is Null\n"
          ]
        }
      ]
    },
    {
      "cell_type": "code",
      "metadata": {
        "colab": {
          "base_uri": "https://localhost:8080/"
        },
        "id": "8xxwOZmpKtjg",
        "outputId": "b8a73f78-d5ba-4fbe-cbba-b99cbf21a520"
      },
      "source": [
        "zero_mat = np.zeros((5,5))\n",
        "print(f'Zero Matrix: \\n{zero_mat}')"
      ],
      "execution_count": null,
      "outputs": [
        {
          "output_type": "stream",
          "name": "stdout",
          "text": [
            "Zero Matrix: \n",
            "[[0. 0. 0. 0. 0.]\n",
            " [0. 0. 0. 0. 0.]\n",
            " [0. 0. 0. 0. 0.]\n",
            " [0. 0. 0. 0. 0.]\n",
            " [0. 0. 0. 0. 0.]]\n"
          ]
        }
      ]
    },
    {
      "cell_type": "code",
      "metadata": {
        "colab": {
          "base_uri": "https://localhost:8080/"
        },
        "id": "2gCvS8gkKw70",
        "outputId": "ddd416f8-bd1d-45c5-c886-6243955fe1e5"
      },
      "source": [
        "ones_mat = np.ones((4,4))\n",
        "print(f'Ones Matrix: \\n{ones_mat}')"
      ],
      "execution_count": null,
      "outputs": [
        {
          "output_type": "stream",
          "name": "stdout",
          "text": [
            "Ones Matrix: \n",
            "[[1. 1. 1. 1.]\n",
            " [1. 1. 1. 1.]\n",
            " [1. 1. 1. 1.]\n",
            " [1. 1. 1. 1.]]\n"
          ]
        }
      ]
    },
    {
      "cell_type": "code",
      "metadata": {
        "colab": {
          "base_uri": "https://localhost:8080/"
        },
        "id": "qhWYclFoK4lk",
        "outputId": "5bd9ebb7-2c62-4230-f5f7-e5238706ba13"
      },
      "source": [
        "np.identity(4)"
      ],
      "execution_count": null,
      "outputs": [
        {
          "output_type": "execute_result",
          "data": {
            "text/plain": [
              "array([[1., 0., 0., 0.],\n",
              "       [0., 1., 0., 0.],\n",
              "       [0., 0., 1., 0.],\n",
              "       [0., 0., 0., 1.]])"
            ]
          },
          "metadata": {},
          "execution_count": 8
        }
      ]
    },
    {
      "cell_type": "markdown",
      "metadata": {
        "id": "gAwbMvAXbu_Z"
      },
      "source": [
        "##Flowchart (Task 1)\n"
      ]
    },
    {
      "cell_type": "markdown",
      "metadata": {
        "id": "Rf8xTOqEbezy"
      },
      "source": [
        "![Task 1.jpg](data:image/jpeg;base64,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)"
      ]
    },
    {
      "cell_type": "markdown",
      "metadata": {
        "id": "hKMWckWiK8hF"
      },
      "source": [
        "###Task 2"
      ]
    },
    {
      "cell_type": "markdown",
      "metadata": {
        "id": "h5Yi00uNLYuJ"
      },
      "source": [
        "Create a function named `mat_operations()` that takes in two matrices a input parameters it should:<br>\n",
        " 1. Determines if the matrices are viable for operation and returns your own error message if they are not viable.\n",
        " 2. Returns the sum of the matrices.\n",
        " 3. Returns the difference of the matrices.\n",
        " 4. Returns the element-wise multiplication of the matrices.\n",
        " 5. Returns the element-wise division of the matrices.\n",
        "\n",
        "Use sample matrices in which their shapes are not lower than $(3,3)$.\n",
        "In your methodology, create a flowchart discuss the functions and methods you have done. Present your results in the results section showing the description of each matrix you have declared."
      ]
    },
    {
      "cell_type": "code",
      "metadata": {
        "id": "XbUpnqk7Vl0Q"
      },
      "source": [
        "##Function Area"
      ],
      "execution_count": null,
      "outputs": []
    },
    {
      "cell_type": "code",
      "metadata": {
        "id": "GtOgnqnKVkgL"
      },
      "source": [
        "import numpy as np\n",
        "import matplotlib.pyplot as plt\n",
        "import scipy.linalg as la\n",
        "%matplotlib inline"
      ],
      "execution_count": 29,
      "outputs": []
    },
    {
      "cell_type": "code",
      "metadata": {
        "id": "X_c1IW-ILfDN"
      },
      "source": [
        "def mat_operation(matrix):\n",
        "  \n",
        "    if matrix.size > 0:\n",
        "        is_viable = True if matrix.shape[0] == matrix.shape[1] else False \n",
        "        print(f'Matrix:\\n{matrix}\\n\\nShape:\\t{matrix.shape}\\nViable: {is_viable}')\n",
        "    else:\n",
        "        print('Not Viable')"
      ],
      "execution_count": 30,
      "outputs": []
    },
    {
      "cell_type": "code",
      "metadata": {
        "id": "J78pPCNcVphb"
      },
      "source": [
        "##Matrix Declaration"
      ],
      "execution_count": null,
      "outputs": []
    },
    {
      "cell_type": "code",
      "metadata": {
        "colab": {
          "base_uri": "https://localhost:8080/"
        },
        "id": "1WVgVP6-LlCG",
        "outputId": "6c6bc81a-dcb6-4379-8aaf-b683695a4143"
      },
      "source": [
        "A = np.array([\n",
        "    [5,5,5],\n",
        "    [1,2,3],\n",
        "    [6,7,8]\n",
        "])\n",
        "B = np.array([\n",
        "    [7,7,7],\n",
        "    [12,11,9],\n",
        "    [8,7,1]\n",
        "])\n",
        "A+B\n",
        "mat_operation(A+B)"
      ],
      "execution_count": null,
      "outputs": [
        {
          "output_type": "stream",
          "name": "stdout",
          "text": [
            "Matrix:\n",
            "[[12 12 12]\n",
            " [13 13 12]\n",
            " [14 14  9]]\n",
            "\n",
            "Shape:\t(3, 3)\n",
            "Viable: True\n"
          ]
        }
      ]
    },
    {
      "cell_type": "code",
      "metadata": {
        "id": "bvqTbycMV1Pb"
      },
      "source": [
        "##Test Area"
      ],
      "execution_count": null,
      "outputs": []
    },
    {
      "cell_type": "code",
      "metadata": {
        "colab": {
          "base_uri": "https://localhost:8080/"
        },
        "id": "ebdKHD7lLsa4",
        "outputId": "f3f0b6a7-7405-43bd-d691-bc0992fb7d4f"
      },
      "source": [
        "A-B\n",
        "mat_operation(A-B)"
      ],
      "execution_count": null,
      "outputs": [
        {
          "output_type": "stream",
          "name": "stdout",
          "text": [
            "Matrix:\n",
            "[[ -2  -2  -2]\n",
            " [-11  -9  -6]\n",
            " [ -2   0   7]]\n",
            "\n",
            "Shape:\t(3, 3)\n",
            "Viable: True\n"
          ]
        }
      ]
    },
    {
      "cell_type": "code",
      "metadata": {
        "colab": {
          "base_uri": "https://localhost:8080/"
        },
        "id": "BBFdLi1SLxMn",
        "outputId": "12ee530a-7bda-4c93-cc69-22b515bf51f6"
      },
      "source": [
        "A*B\n",
        "np.multiply(A,B)\n",
        "mat_operation(A*B)"
      ],
      "execution_count": null,
      "outputs": [
        {
          "output_type": "stream",
          "name": "stdout",
          "text": [
            "Matrix:\n",
            "[[35 35 35]\n",
            " [12 22 27]\n",
            " [48 49  8]]\n",
            "\n",
            "Shape:\t(3, 3)\n",
            "Viable: True\n"
          ]
        }
      ]
    },
    {
      "cell_type": "code",
      "metadata": {
        "colab": {
          "base_uri": "https://localhost:8080/"
        },
        "id": "Tu_7xZMlMMZY",
        "outputId": "20af0bd8-8a9c-4066-8bf1-ad4abd8a3b37"
      },
      "source": [
        "A/B\n",
        "np.divide(A,B)\n",
        "mat_operation(A/B)"
      ],
      "execution_count": null,
      "outputs": [
        {
          "output_type": "stream",
          "name": "stdout",
          "text": [
            "Matrix:\n",
            "[[0.71428571 0.71428571 0.71428571]\n",
            " [0.08333333 0.18181818 0.33333333]\n",
            " [0.75       1.         8.        ]]\n",
            "\n",
            "Shape:\t(3, 3)\n",
            "Viable: True\n"
          ]
        }
      ]
    },
    {
      "cell_type": "markdown",
      "metadata": {
        "id": "j5Mh8jwTcR8B"
      },
      "source": [
        "##Flowchart (Task 2)"
      ]
    },
    {
      "cell_type": "markdown",
      "metadata": {
        "id": "6XjOzS-UcYI8"
      },
      "source": [
        "![Task 2.jpg](data:image/jpeg;base64,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)"
      ]
    },
    {
      "cell_type": "markdown",
      "metadata": {
        "id": "JkL7Cu_QMTLM"
      },
      "source": [
        "## Conclusion"
      ]
    },
    {
      "cell_type": "markdown",
      "metadata": {
        "id": "FncvlDNsMT6I"
      },
      "source": [
        "[1]Overall, the objectives of the laboratory experiment were met since i was able to learn the different kinds of matrices and its operation. in the task exercises i was able to perform the different basic matrices, program and translate the matrix operation using the phyton fundamentals. Not only matrices can be used in mathematics it also can be used in the real world They are used to create graphs, calculate statistics, and conduct scientific studies and research in a variety of subjects. Matrices can also be used to represent real-world data, such as the population of the world or a nation. matrix operations can help solve the problems in technology by sometimes decoding the code and knowing what is the main problem."
      ]
    },
    {
      "cell_type": "markdown",
      "metadata": {
        "id": "Z7aLD3tjykB2"
      },
      "source": [
        "##References"
      ]
    },
    {
      "cell_type": "markdown",
      "metadata": {
        "id": "X0jUHytHF5cn"
      },
      "source": [
        "[1] J. Brownlee, Matrix types in Linear Algebra for Machine Learning, (2018). Accessed on September 23, 2021 [Online] Available https://machinelearningmastery.com/introduction-to-types-of-matrices-in-linear-algebra/ \\\\\n",
        "[2] C. Oden, Application of Matrices to Real life Problems, (2021) Accessed on September 23, 2021 [Online] Available https://www.projecttopics.org/application-of-matrices-to-real-life-problems.html \\\\\n",
        "[3] R. Pierce, Matrix Rank, (2020). Accessed on September 23, 2021 [Online] http://www.mathsisfun.com/algebra/matrix-rank.html \\\\\n",
        "[4] GeeksforGeeks, add two Matrices, (2021). Accessed on September 23, 2021 [Online] https://www.geeksforgeeks.org/python-program-add-two-matrices/\n"
      ]
    }
  ]
}